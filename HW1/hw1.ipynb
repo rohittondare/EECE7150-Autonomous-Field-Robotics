{
 "cells": [
  {
   "cell_type": "code",
   "execution_count": 1,
   "metadata": {},
   "outputs": [],
   "source": [
    "import numpy as np\n",
    "import scipy.linalg"
   ]
  },
  {
   "cell_type": "markdown",
   "metadata": {},
   "source": [
    "## HW1\n",
    "The State can be visually seen in the following diagram.\n",
    "\n",
    "![State Diagram](HW1\\StateDiagram.JPG)\n"
   ]
  },
  {
   "cell_type": "code",
   "execution_count": 2,
   "metadata": {},
   "outputs": [
    {
     "data": {
      "text/plain": [
       "array([[0.8, 0.2, 0. ],\n",
       "       [0.4, 0.4, 0.2],\n",
       "       [0.2, 0.6, 0.2]])"
      ]
     },
     "execution_count": 2,
     "metadata": {},
     "output_type": "execute_result"
    }
   ],
   "source": [
    "states = {0:'Sunny', 1:'Cloudy', 2:'Rainy'}   # Create a Dictionary with the states\n",
    "A = np.array([[0.8,0.2,0],[0.4,0.4,0.2],[0.2,0.6,0.2]])   # A is the Transition matrix\n",
    "A"
   ]
  },
  {
   "cell_type": "markdown",
   "metadata": {},
   "source": [
    "2(b) Write up a general purpose simulator for the state transition matrix\n",
    "\n",
    "- The code below prints the output of the simulator after each state for the number of steps defined by variable n.\n"
   ]
  },
  {
   "cell_type": "code",
   "execution_count": 3,
   "metadata": {},
   "outputs": [
    {
     "name": "stdout",
     "output_type": "stream",
     "text": [
      "Sunny --> Cloudy --> Sunny --> Sunny --> Sunny --> Sunny --> Cloudy --> Cloudy --> Cloudy --> Cloudy --> Sunny --> Sunny --> Sunny --> Sunny --> Sunny --> Sunny --> Sunny --> Sunny --> Sunny --> Sunny --> Cloudy --> Sunny --> Sunny --> Sunny --> Sunny --> Sunny --> Sunny --> Sunny --> Cloudy --> Rainy --> Cloudy --> END\n"
     ]
    }
   ],
   "source": [
    "n = 30   # No. of iterations\n",
    "start_state  = np.random.randint(3)   # Randomaly select start state\n",
    "curr_state = start_state\n",
    "print(f\"{states[curr_state]} --> \", end=\"\")   # Print first state\n",
    "\n",
    "while n>0:\n",
    "    curr_state = np.random.choice([0, 1, 2], p=A[curr_state])   # Set current state randomly based on the probabilities provieded in the Transition Matrix.\n",
    "    print(f\"{states[curr_state]} --> \", end=\"\")   # Print current state\n",
    "    n = n-1\n",
    "print('END')\n",
    "\n"
   ]
  },
  {
   "cell_type": "markdown",
   "metadata": {},
   "source": [
    "Extra Test code!"
   ]
  },
  {
   "cell_type": "code",
   "execution_count": 4,
   "metadata": {},
   "outputs": [
    {
     "name": "stdout",
     "output_type": "stream",
     "text": [
      "π =  [0.641779 0.286212 0.07201 ]\n",
      "π =  [0.642586 0.285819 0.071596]\n",
      "π =  [0.640875 0.287367 0.071759]\n",
      "Average of each column:\n",
      "[0.64174667 0.286466   0.07178833]\n"
     ]
    }
   ],
   "source": [
    "# Sunny  = 9/14 = 0.6428571428571429\n",
    "# Cloudy = 2/7  = 0.2857142857142857\n",
    "# Rainy  = 1/14 = 0.0714285714285714\n",
    "\n",
    "steps = 10**6\n",
    "# start_state = 0\n",
    "# curr_state = start_state\n",
    "# pi = np.array([0, 0, 0])\n",
    "# pi[start_state] = 1\n",
    "\n",
    "# i = 0\n",
    "pi2 = np.array([[0,0,0], [0,0,0], [0,0,0]])\n",
    "for j in range(0,3):\n",
    "    start_state = 0\n",
    "    curr_state = start_state\n",
    "    pi = np.array([0, 0, 0])\n",
    "    pi[start_state] = 1\n",
    "    i = 0\n",
    "    while i<steps:\n",
    "        curr_state = np.random.choice([0,1,2], p=A[curr_state])\n",
    "        pi[curr_state]+=1\n",
    "        i +=1\n",
    "    pi2[j] = pi\n",
    "    print(\"π = \", pi/steps)\n",
    "\n",
    "column_averages = np.mean(pi2, axis=0)\n",
    "\n",
    "print(\"Average of each column:\")\n",
    "print(column_averages/steps)\n"
   ]
  },
  {
   "cell_type": "markdown",
   "metadata": {},
   "source": [
    "Extra Test code!"
   ]
  },
  {
   "cell_type": "code",
   "execution_count": 6,
   "metadata": {},
   "outputs": [
    {
     "name": "stderr",
     "output_type": "stream",
     "text": [
      "C:\\Users\\ROHIT\\AppData\\Local\\Temp\\ipykernel_24648\\1477613802.py:10: RuntimeWarning: divide by zero encountered in divide\n",
      "  temp_pi = pi/i\n",
      "C:\\Users\\ROHIT\\AppData\\Local\\Temp\\ipykernel_24648\\1477613802.py:10: RuntimeWarning: invalid value encountered in divide\n",
      "  temp_pi = pi/i\n"
     ]
    },
    {
     "name": "stdout",
     "output_type": "stream",
     "text": [
      "100000\n",
      "π =  [0.64607 0.28324 0.0707 ] [0.64607646 0.28324283 0.07069071]\n"
     ]
    }
   ],
   "source": [
    "steps = 10**5\n",
    "start_state = 0\n",
    "curr_state = start_state\n",
    "pi = np.array([0, 0, 0])\n",
    "pi[start_state] = 1\n",
    "temp_pi = np.array([0, 0, 0])\n",
    "i = 0\n",
    "while i<steps:\n",
    "    if pi[0]!=0:\n",
    "        temp_pi = pi/i\n",
    "    curr_state = np.random.choice([0,1,2], p=A[curr_state])\n",
    "    pi[curr_state]+=1\n",
    "    i +=1\n",
    "    # print(temp_pi,pi)\n",
    "    if temp_pi[0] == pi[0]/i:\n",
    "        break\n",
    "\n",
    "print(i)\n",
    "print(\"π = \", pi/steps, temp_pi)"
   ]
  },
  {
   "cell_type": "markdown",
   "metadata": {},
   "source": [
    "(c) Use your simulator to determine the stationary distribution of this Markov chain. In particular I would like everyone to address (i) How you initialize the simulation (ii) How many transitions you consider before taking a result and (iii) How many simulation runs you conducted to arrive at the statistics for the stationary distribution.\n",
    "- To determine the stationary distribution, I have assigned the start state to a variable and the start state is determined randomly using the numpy random function. Selecting a random start state will help remove biases caused due to the start state. \n",
    "- By trial and error method, I found out that using 5000 steps and 1000 simulations yielded the answer correct upto 3 decimal places the most consistently.  \n"
   ]
  },
  {
   "cell_type": "code",
   "execution_count": 8,
   "metadata": {},
   "outputs": [
    {
     "name": "stdout",
     "output_type": "stream",
     "text": [
      "Stationary Distribution : [0.643906 0.285771 0.071323]\n"
     ]
    }
   ],
   "source": [
    "# Sunny  = 9/14 = 0.6428571428571429\n",
    "# Cloudy = 2/7  = 0.2857142857142857\n",
    "# Rainy  = 1/14 = 0.0714285714285714\n",
    "\n",
    "iterrations = 1000   # No. of simulations\n",
    "steps = 5000   # No. of Days or iterrations\n",
    "\n",
    "Avg_pi = np.zeros(3)\n",
    "\n",
    "for _ in range(iterrations):\n",
    "    start_state = 0\n",
    "    curr_state = start_state\n",
    "    pi = np.array([0, 0, 0])\n",
    "    pi[start_state] = 1\n",
    "\n",
    "    for _ in range(steps):\n",
    "        curr_state = np.random.choice([0, 1, 2], p=A[curr_state])\n",
    "        pi[curr_state] += 1\n",
    "    Avg_pi += pi / steps\n",
    "\n",
    "Avg_pi /= iterrations\n",
    "\n",
    "print(f\"Stationary Distribution : {Avg_pi}\")\n"
   ]
  },
  {
   "cell_type": "markdown",
   "metadata": {},
   "source": [
    "(d) The solution is derived via a closed analytical form. Can you do the diagonalization of the state matrix A with python to come up with the same result.\n",
    "- Using the linear algebra library of python, I calculated the Left diagonal vector. After getting the results, the eigen vector corresponding to eigen value = 1 has to be considered.\n",
    "- As the values are negative, we need to Normalize this result to get the exact closed form stationary distribution.\n"
   ]
  },
  {
   "cell_type": "code",
   "execution_count": 13,
   "metadata": {},
   "outputs": [
    {
     "name": "stdout",
     "output_type": "stream",
     "text": [
      "Left Eigen Vectors = \n",
      " [[-0.90913729 -0.81251992  0.23258782]\n",
      " [-0.40406102  0.47596315 -0.79410449]\n",
      " [-0.10101525  0.33655677  0.56151667]]\n",
      "\n",
      "eigen values = \n",
      " [ 1.        +0.j  0.48284271+0.j -0.08284271+0.j]\n",
      "\n",
      "Final Normalized pi = [0.6428571428571426, 0.28571428571428586, 0.07142857142857145]\n"
     ]
    }
   ],
   "source": [
    "Eig_values, left_vectors = scipy.linalg.eig(A, left = True, right = False)   # Calculates the left Eigen Vectors\n",
    "\n",
    "print(f\"Left Eigen Vectors = \\n {left_vectors}\")\n",
    "print(f\"\\neigen values = \\n {Eig_values}\")\n",
    "\n",
    "pi = left_vectors[:,0]\n",
    "normalized_pi = [(x/np.sum(pi)).real for x in pi]   # Normalizes pi\n",
    "print(f\"\\nFinal Normalized pi = {normalized_pi}\")"
   ]
  }
 ],
 "metadata": {
  "kernelspec": {
   "display_name": "Python 3",
   "language": "python",
   "name": "python3"
  },
  "language_info": {
   "codemirror_mode": {
    "name": "ipython",
    "version": 3
   },
   "file_extension": ".py",
   "mimetype": "text/x-python",
   "name": "python",
   "nbconvert_exporter": "python",
   "pygments_lexer": "ipython3",
   "version": "3.11.1"
  },
  "orig_nbformat": 4
 },
 "nbformat": 4,
 "nbformat_minor": 2
}
