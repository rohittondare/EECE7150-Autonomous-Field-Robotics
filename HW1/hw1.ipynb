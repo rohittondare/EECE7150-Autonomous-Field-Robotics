{
 "cells": [
  {
   "cell_type": "code",
   "execution_count": 180,
   "metadata": {},
   "outputs": [],
   "source": [
    "import numpy as np\n",
    "import scipy.linalg\n"
   ]
  },
  {
   "cell_type": "code",
   "execution_count": 181,
   "metadata": {},
   "outputs": [
    {
     "data": {
      "text/plain": [
       "array([[0.8, 0.2, 0. ],\n",
       "       [0.4, 0.4, 0.2],\n",
       "       [0.2, 0.6, 0.2]])"
      ]
     },
     "execution_count": 181,
     "metadata": {},
     "output_type": "execute_result"
    }
   ],
   "source": [
    "states = {0:'Sunny', 1:'Cloudy', 2:'Rainy'}   # Create a Dictionary with the states\n",
    "A = np.array([[0.8,0.2,0],[0.4,0.4,0.2],[0.2,0.6,0.2]])   # A is the Transition matrix\n",
    "A"
   ]
  },
  {
   "cell_type": "markdown",
   "metadata": {},
   "source": [
    "2(b) Write up a general purpose simulator for the state transition matrix"
   ]
  },
  {
   "cell_type": "code",
   "execution_count": 182,
   "metadata": {},
   "outputs": [
    {
     "name": "stdout",
     "output_type": "stream",
     "text": [
      "Rainy --> Cloudy --> Cloudy --> Cloudy --> Cloudy --> Cloudy --> Cloudy --> Cloudy --> Rainy --> Cloudy --> Cloudy --> Cloudy --> Cloudy --> Cloudy --> Sunny --> Sunny --> Sunny --> Sunny --> Cloudy --> Cloudy --> Rainy --> Cloudy --> Rainy --> Cloudy --> Cloudy --> Sunny --> Sunny --> Cloudy --> Rainy --> Rainy --> Cloudy --> END\n"
     ]
    }
   ],
   "source": [
    "n = 30   # No. of iterations\n",
    "start_state  = np.random.randint(3)   # Randomaly select start state\n",
    "curr_state = start_state\n",
    "print(f\"{states[curr_state]} --> \", end=\"\")   # Print first state\n",
    "\n",
    "while n>0:\n",
    "    curr_state = np.random.choice([0, 1, 2], p=A[curr_state])   # Set current state randomly based on the probabilities provieded in the Transition Matrix.\n",
    "    print(f\"{states[curr_state]} --> \", end=\"\")   # Print current state\n",
    "    n = n-1\n",
    "print('END')\n",
    "\n"
   ]
  },
  {
   "cell_type": "code",
   "execution_count": 183,
   "metadata": {},
   "outputs": [
    {
     "name": "stdout",
     "output_type": "stream",
     "text": [
      "π =  [0.643826 0.285048 0.071127]\n",
      "π =  [0.642291 0.285909 0.071801]\n",
      "π =  [0.642365 0.286416 0.07122 ]\n",
      "Average of each column:\n",
      "[0.64282733 0.285791   0.07138267]\n"
     ]
    }
   ],
   "source": [
    "# Sunny  = 9/14 = 0.6428571428571429\n",
    "# Cloudy = 2/7  = 0.2857142857142857\n",
    "# Rainy  = 1/14 = 0.0714285714285714\n",
    "\n",
    "steps = 10**6\n",
    "# start_state = 0\n",
    "# curr_state = start_state\n",
    "# pi = np.array([0, 0, 0])\n",
    "# pi[start_state] = 1\n",
    "\n",
    "# i = 0\n",
    "pi2 = np.array([[0,0,0], [0,0,0], [0,0,0]])\n",
    "for j in range(0,3):\n",
    "    start_state = 0\n",
    "    curr_state = start_state\n",
    "    pi = np.array([0, 0, 0])\n",
    "    pi[start_state] = 1\n",
    "    i = 0\n",
    "    while i<steps:\n",
    "        curr_state = np.random.choice([0,1,2], p=A[curr_state])\n",
    "        pi[curr_state]+=1\n",
    "        i +=1\n",
    "    pi2[j] = pi\n",
    "    print(\"π = \", pi/steps)\n",
    "\n",
    "column_averages = np.mean(pi2, axis=0)\n",
    "\n",
    "print(\"Average of each column:\")\n",
    "print(column_averages/steps)\n"
   ]
  },
  {
   "cell_type": "code",
   "execution_count": 184,
   "metadata": {},
   "outputs": [
    {
     "name": "stdout",
     "output_type": "stream",
     "text": [
      "4\n",
      "π =  [4.e-05 1.e-05 0.e+00] [1.         0.33333333 0.        ]\n"
     ]
    },
    {
     "name": "stderr",
     "output_type": "stream",
     "text": [
      "C:\\Users\\ROHIT\\AppData\\Local\\Temp\\ipykernel_7868\\1477613802.py:10: RuntimeWarning: divide by zero encountered in divide\n",
      "  temp_pi = pi/i\n",
      "C:\\Users\\ROHIT\\AppData\\Local\\Temp\\ipykernel_7868\\1477613802.py:10: RuntimeWarning: invalid value encountered in divide\n",
      "  temp_pi = pi/i\n"
     ]
    }
   ],
   "source": [
    "steps = 10**5\n",
    "start_state = 0\n",
    "curr_state = start_state\n",
    "pi = np.array([0, 0, 0])\n",
    "pi[start_state] = 1\n",
    "temp_pi = np.array([0, 0, 0])\n",
    "i = 0\n",
    "while i<steps:\n",
    "    if pi[0]!=0:\n",
    "        temp_pi = pi/i\n",
    "    curr_state = np.random.choice([0,1,2], p=A[curr_state])\n",
    "    pi[curr_state]+=1\n",
    "    i +=1\n",
    "    # print(temp_pi,pi)\n",
    "    if temp_pi[0] == pi[0]/i:\n",
    "        break\n",
    "\n",
    "print(i)\n",
    "print(\"π = \", pi/steps, temp_pi)"
   ]
  },
  {
   "cell_type": "code",
   "execution_count": 185,
   "metadata": {},
   "outputs": [
    {
     "name": "stdout",
     "output_type": "stream",
     "text": [
      "Stationary Distribution:\n",
      "[0.6430879 0.285618  0.0713041]\n"
     ]
    }
   ],
   "source": [
    "# Sunny  = 9/14 = 0.6428571428571429\n",
    "# Cloudy = 2/7  = 0.2857142857142857\n",
    "# Rainy  = 1/14 = 0.0714285714285714\n",
    "\n",
    "num_simulations = 100\n",
    "num_transitions = 100000\n",
    "\n",
    "stationary_distribution = np.zeros(3)\n",
    "\n",
    "for _ in range(num_simulations):\n",
    "    start_state = 0\n",
    "    curr_state = start_state\n",
    "    pi = np.array([0, 0, 0])\n",
    "    pi[start_state] = 1\n",
    "\n",
    "    for _ in range(num_transitions):\n",
    "        curr_state = np.random.choice([0, 1, 2], p=A[curr_state])\n",
    "        pi[curr_state] += 1\n",
    "    stationary_distribution += pi / num_transitions\n",
    "\n",
    "stationary_distribution /= num_simulations\n",
    "\n",
    "print(\"Stationary Distribution:\")\n",
    "print(stationary_distribution)\n"
   ]
  },
  {
   "cell_type": "code",
   "execution_count": 186,
   "metadata": {},
   "outputs": [
    {
     "name": "stdout",
     "output_type": "stream",
     "text": [
      "left eigen vectors = \n",
      " [[-0.90913729 -0.81251992  0.23258782]\n",
      " [-0.40406102  0.47596315 -0.79410449]\n",
      " [-0.10101525  0.33655677  0.56151667]] \n",
      "\n",
      "eigen values = \n",
      " [ 1.        +0.j  0.48284271+0.j -0.08284271+0.j]\n"
     ]
    },
    {
     "data": {
      "text/plain": [
       "[0.6428571428571426, 0.28571428571428586, 0.07142857142857145]"
      ]
     },
     "execution_count": 186,
     "metadata": {},
     "output_type": "execute_result"
    }
   ],
   "source": [
    "values, left = scipy.linalg.eig(A, right = False, left = True)\n",
    "\n",
    "print(\"left eigen vectors = \\n\", left, \"\\n\")\n",
    "print(\"eigen values = \\n\", values)\n",
    "\n",
    "pi = left[:,0]\n",
    "pi_normalized = [(x/np.sum(pi)).real for x in pi]\n",
    "pi_normalized"
   ]
  }
 ],
 "metadata": {
  "kernelspec": {
   "display_name": "Python 3",
   "language": "python",
   "name": "python3"
  },
  "language_info": {
   "codemirror_mode": {
    "name": "ipython",
    "version": 3
   },
   "file_extension": ".py",
   "mimetype": "text/x-python",
   "name": "python",
   "nbconvert_exporter": "python",
   "pygments_lexer": "ipython3",
   "version": "3.11.1"
  },
  "orig_nbformat": 4
 },
 "nbformat": 4,
 "nbformat_minor": 2
}
